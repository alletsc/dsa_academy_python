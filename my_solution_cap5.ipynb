{
 "cells": [
  {
   "cell_type": "code",
   "execution_count": 1,
   "source": [
    "# Versão da Linguagem Python\r\n",
    "from platform import python_version\r\n",
    "print('Versão da Linguagem Python Usada Neste Jupyter Notebook:', python_version())"
   ],
   "outputs": [
    {
     "output_type": "stream",
     "name": "stdout",
     "text": [
      "Versão da Linguagem Python Usada Neste Jupyter Notebook: 3.8.8\n"
     ]
    }
   ],
   "metadata": {}
  },
  {
   "cell_type": "markdown",
   "source": [
    "## Exercícios"
   ],
   "metadata": {}
  },
  {
   "cell_type": "code",
   "execution_count": 11,
   "source": [
    "\r\n",
    "# Exercício 1 - Crie um objeto a partir da classe abaixo, chamado roc1, passando 2 parâmetros e depois faça uma chamada\r\n",
    "# aos atributos e métodos\r\n",
    "from math import sqrt\r\n",
    "\r\n",
    "class Rocket():\r\n",
    "     \r\n",
    "    def __init__(self, x=0, y=0):\r\n",
    "        self.x = x\r\n",
    "        self.y = y\r\n",
    "        \r\n",
    "    def move_rocket(self, x_increment=0, y_increment=1):\r\n",
    "        self.x += x_increment\r\n",
    "        self.y += y_increment\r\n",
    "        \r\n",
    "    def print_rocket(self):\r\n",
    "        print(self.x, self.y)\r\n",
    "\r\n",
    "roc1 = Rocket(10,20)\r\n",
    "roc1.x\r\n",
    "roc1.y\r\n",
    "roc1.move_rocket(1, -1)\r\n",
    "roc1.print_rocket()"
   ],
   "outputs": [
    {
     "output_type": "stream",
     "name": "stdout",
     "text": [
      "11 19\n"
     ]
    }
   ],
   "metadata": {}
  },
  {
   "cell_type": "code",
   "execution_count": 18,
   "source": [
    "# Exercício 2 - Crie uma classe chamada Pessoa() com os atributos: nome, cidade, telefone e e-mail. Use pelo menos 2\r\n",
    "# métodos especiais na sua classe. Crie um objeto da sua classe e faça uma chamada a pelo menos um dos seus métodos\r\n",
    "# especiais.\r\n",
    "class Pessoa():\r\n",
    "    def __init__(self, nome, cidade, telefone, email):\r\n",
    "        self.nome = nome\r\n",
    "        self.cidade = cidade\r\n",
    "        self.telefone = telefone\r\n",
    "        self.email = email\r\n",
    "        \r\n",
    "    \r\n",
    "    def __str__(self):\r\n",
    "        return (f\"Nome: {self.nome}\\nE-mail: {self.email}\")\r\n",
    "    \r\n",
    "user1 = Pessoa('Stella', 'RJ', 999999999, \"stellacosta@ufrj.com\")\r\n",
    "print(user1)"
   ],
   "outputs": [
    {
     "output_type": "stream",
     "name": "stdout",
     "text": [
      "Nome: Stella\n",
      "E-mail: stellacosta@ufrj.com\n"
     ]
    }
   ],
   "metadata": {}
  },
  {
   "cell_type": "code",
   "execution_count": 25,
   "source": [
    "# Exercício 3 - Crie a classe Smartphone com 2 atributos, tamanho e interface e crie a classe MP3Player com os \r\n",
    "# atributos capacidade. A classe MP3player deve herdar os atributos da classe Smartphone.\r\n",
    "\r\n",
    "class Smartphone(object):\r\n",
    "    def __init__(self, tamanho, interface):\r\n",
    "        self.tamanho = tamanho\r\n",
    "        self.interface = interface\r\n",
    "        \r\n",
    "class Mp3player(Smartphone):\r\n",
    "    def __init__(self, capacidade, tamanho = 'medio', interface = '1024X1024'):\r\n",
    "        self.capacidade = capacidade\r\n",
    "        Smartphone.__init__(self,tamanho, interface)\r\n",
    "        \r\n",
    "    def __str__ (self):\r\n",
    "        return (f\"O dispositivo tem a capacidade de {self.capacidade} e tamanho {self.tamanho}.\")\r\n",
    "        \r\n",
    "device1 = Mp3player('24GB', 'pequeno')\r\n",
    "print(device1)\r\n"
   ],
   "outputs": [
    {
     "output_type": "stream",
     "name": "stdout",
     "text": [
      "O dispositivo tem a capacidade de 24GB e tamanho pequeno\n"
     ]
    }
   ],
   "metadata": {}
  },
  {
   "cell_type": "code",
   "execution_count": null,
   "source": [],
   "outputs": [],
   "metadata": {}
  }
 ],
 "metadata": {
  "kernelspec": {
   "name": "python3",
   "display_name": "Python 3.9.6 64-bit"
  },
  "language_info": {
   "codemirror_mode": {
    "name": "ipython",
    "version": 3
   },
   "file_extension": ".py",
   "mimetype": "text/x-python",
   "name": "python",
   "nbconvert_exporter": "python",
   "pygments_lexer": "ipython3",
   "version": "3.9.6"
  },
  "interpreter": {
   "hash": "9262bbce9df8904d0d3b9bbbe589445768d9f5d707fc2cd948c4177acb3d5ef6"
  }
 },
 "nbformat": 4,
 "nbformat_minor": 1
}