{
 "cells": [
  {
   "cell_type": "code",
   "execution_count": 1,
   "source": [
    "from platform import python_version\r\n",
    "print('Versão da Linguagem Python Usada Neste Jupyter Notebook:', python_version())"
   ],
   "outputs": [
    {
     "output_type": "stream",
     "name": "stdout",
     "text": [
      "Versão da Linguagem Python Usada Neste Jupyter Notebook: 3.9.6\n"
     ]
    }
   ],
   "metadata": {}
  },
  {
   "cell_type": "code",
   "execution_count": 2,
   "source": [
    "import numpy as np"
   ],
   "outputs": [],
   "metadata": {}
  },
  {
   "cell_type": "code",
   "execution_count": 7,
   "source": [
    "'''Exercício 1 - Imprima na tela os números de 1 a 10. \r\n",
    "Use uma lista para armazenar os números.'''\r\n",
    "\r\n",
    "ex1 = np.arange(1,11)\r\n",
    "lis1 = []\r\n",
    "for x in ex1:\r\n",
    "    lis1.append(x)\r\n",
    "print(lis1)"
   ],
   "outputs": [
    {
     "output_type": "stream",
     "name": "stdout",
     "text": [
      "[1, 2, 3, 4, 5, 6, 7, 8, 9, 10]\n"
     ]
    }
   ],
   "metadata": {}
  },
  {
   "cell_type": "code",
   "execution_count": 8,
   "source": [
    "# Exercício 2 - Crie uma lista de 5 objetos e imprima na tela\r\n",
    "ex2 = ['um', 'dois', 'tres', 'quatro', 'cinco']\r\n",
    "ex2"
   ],
   "outputs": [
    {
     "output_type": "execute_result",
     "data": {
      "text/plain": [
       "['um', 'dois', 'tres', 'quatro', 'cinco']"
      ]
     },
     "metadata": {},
     "execution_count": 8
    }
   ],
   "metadata": {}
  },
  {
   "cell_type": "code",
   "execution_count": 10,
   "source": [
    "# Exercício 3 - Crie duas strings e concatene as duas em uma terceira string\r\n",
    "str1 = \"oi\"\r\n",
    "str2 = \"tchau\"\r\n",
    "str3 = str1 + str2\r\n",
    "print(str3)"
   ],
   "outputs": [
    {
     "output_type": "stream",
     "name": "stdout",
     "text": [
      "oitchau\n"
     ]
    }
   ],
   "metadata": {}
  },
  {
   "cell_type": "code",
   "execution_count": 11,
   "source": [
    "'''Exercício 4 - Crie uma tupla com os seguintes elementos: 1, 2, 2, 3, 4, 4, 4, 5 \r\n",
    "e depois utilize a função count do objeto tupla para verificar quantas \r\n",
    "vezes o número 4 aparece na tupla'''\r\n",
    "\r\n",
    "ex4 = [1, 2, 2, 3, 4, 4, 4, 5]\r\n",
    "ex4.count(4)"
   ],
   "outputs": [
    {
     "output_type": "execute_result",
     "data": {
      "text/plain": [
       "3"
      ]
     },
     "metadata": {},
     "execution_count": 11
    }
   ],
   "metadata": {}
  },
  {
   "cell_type": "code",
   "execution_count": 12,
   "source": [
    "''' Exercício 5 - Crie um dicionário vazio e imprima na tela'''\r\n",
    "ex5 = {}\r\n",
    "print(ex5)"
   ],
   "outputs": [
    {
     "output_type": "stream",
     "name": "stdout",
     "text": [
      "{}\n"
     ]
    }
   ],
   "metadata": {}
  },
  {
   "cell_type": "code",
   "execution_count": 19,
   "source": [
    "'''Exercício 6 - Crie um dicionário com 3 chaves e 3 valores \r\n",
    "e imprima na tela'''\r\n",
    "ex6 = {'chave1':'valor1', 'chave2':'valor2', 'chave3':'valor3'}\r\n",
    "ex6"
   ],
   "outputs": [
    {
     "output_type": "execute_result",
     "data": {
      "text/plain": [
       "{'chave1': 'valor1', 'chave2': 'valor2', 'chave3': 'valor3'}"
      ]
     },
     "metadata": {},
     "execution_count": 19
    }
   ],
   "metadata": {}
  },
  {
   "cell_type": "code",
   "execution_count": 18,
   "source": [
    "''' Exercício 7 - Adicione mais um elemento ao dicionário criado no \r\n",
    "exercício anterior e imprima na tela'''\r\n",
    "ex6['chave4']='valor4'\r\n",
    "ex6"
   ],
   "outputs": [
    {
     "output_type": "execute_result",
     "data": {
      "text/plain": [
       "{'chave1': 'valor1',\n",
       " 'chave2': 'valor2',\n",
       " 'chave3': 'valor3',\n",
       " 'chave4': 'valor4'}"
      ]
     },
     "metadata": {},
     "execution_count": 18
    }
   ],
   "metadata": {}
  },
  {
   "cell_type": "code",
   "execution_count": 21,
   "source": [
    "''' Exercício 8 - Crie um dicionário com 3 chaves e 3 valores. \r\n",
    "Um dos valores deve ser uma lista de 2 elementos numéricos. \r\n",
    " Imprima o dicionário na tela.'''\r\n",
    " \r\n",
    "ex8 = {'chave1': 'valor1', 'chave2': 'valor2', 'chave3': '[1,2]'}\r\n",
    "ex8\r\n"
   ],
   "outputs": [
    {
     "output_type": "execute_result",
     "data": {
      "text/plain": [
       "{'chave1': 'valor1', 'chave2': 'valor2', 'chave3': '[1,2]'}"
      ]
     },
     "metadata": {},
     "execution_count": 21
    }
   ],
   "metadata": {}
  },
  {
   "cell_type": "code",
   "execution_count": 22,
   "source": [
    "'''Exercício 9 - Crie uma lista de 4 elementos. \r\n",
    "O primeiro elemento deve ser uma string, \r\n",
    "o segundo uma tupla de 2 elementos, o terceiro um dcionário com 2 chaves e \r\n",
    "2 valores e o quarto elemento um valor do tipo float.\r\n",
    "Imprima a lista na tela.'''\r\n",
    "\r\n",
    "ex9 = [\"primeiro_elemento\", (1,2), {'chave1':'valor1', 'chave2':'valor2'}, 3.14]\r\n",
    "ex9"
   ],
   "outputs": [
    {
     "output_type": "execute_result",
     "data": {
      "text/plain": [
       "['primeiro_elemento', (1, 2), {'chave1': 'valor1', 'chave2': 'valor2'}, 3.14]"
      ]
     },
     "metadata": {},
     "execution_count": 22
    }
   ],
   "metadata": {}
  },
  {
   "cell_type": "code",
   "execution_count": 23,
   "source": [
    "'''Exercício 10 - Considere a string abaixo. \r\n",
    "Imprima na tela apenas os caracteres da posição 1 a 18.'''\r\n",
    "\r\n",
    "frase = 'Cientista de Dados é o profissional mais sexy do século XXI'\r\n",
    "frase[1:18]"
   ],
   "outputs": [
    {
     "output_type": "execute_result",
     "data": {
      "text/plain": [
       "'ientista de Dados'"
      ]
     },
     "metadata": {},
     "execution_count": 23
    }
   ],
   "metadata": {}
  }
 ],
 "metadata": {
  "kernelspec": {
   "name": "python3",
   "display_name": "Python 3.9.6 64-bit"
  },
  "language_info": {
   "codemirror_mode": {
    "name": "ipython",
    "version": 3
   },
   "file_extension": ".py",
   "mimetype": "text/x-python",
   "name": "python",
   "nbconvert_exporter": "python",
   "pygments_lexer": "ipython3",
   "version": "3.9.6"
  },
  "interpreter": {
   "hash": "9262bbce9df8904d0d3b9bbbe589445768d9f5d707fc2cd948c4177acb3d5ef6"
  }
 },
 "nbformat": 4,
 "nbformat_minor": 1
}